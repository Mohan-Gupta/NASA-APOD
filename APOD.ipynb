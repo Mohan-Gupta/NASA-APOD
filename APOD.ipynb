{
 "cells": [
  {
   "cell_type": "markdown",
   "metadata": {},
   "source": [
    "# NASA Astronomy Pic Of The Day"
   ]
  },
  {
   "cell_type": "code",
   "execution_count": 1,
   "metadata": {},
   "outputs": [],
   "source": [
    "# importing the libraries\n",
    "import requests\n",
    "import urllib.request as req"
   ]
  },
  {
   "cell_type": "code",
   "execution_count": 2,
   "metadata": {},
   "outputs": [],
   "source": [
    "# URL of the NASA APOD page\n",
    "url=\"https://api.nasa.gov/planetary/apod?api_key=YOUR API KEY\"\n",
    "\n",
    "#Here we have created a Response object of the page\n",
    "data = requests.get(url=url)\n",
    "\n",
    "#we convert the data into JSON(JAVA Script Object Notation)\n",
    "data=data.json()"
   ]
  },
  {
   "cell_type": "code",
   "execution_count": 3,
   "metadata": {},
   "outputs": [
    {
     "name": "stdout",
     "output_type": "stream",
     "text": [
      "do you want hd image press (Y/N)\n",
      "N\n"
     ]
    }
   ],
   "source": [
    "#Asking the user if they want to download a hd image or not.\n",
    "print(\"do you want hd image press (Y/N)\")\n",
    "img=input()\n",
    "if img=='Y' or img=='y':\n",
    "    img_url = data[\"hdurl\"]\n",
    "else:\n",
    "    img_url=data[\"url\"]"
   ]
  },
  {
   "cell_type": "code",
   "execution_count": 4,
   "metadata": {},
   "outputs": [],
   "source": [
    "#Extracting the title of the image\n",
    "title = data['title']\n",
    "\n",
    "#extracting the explanation about the image\n",
    "expln = data[\"explanation\"]"
   ]
  },
  {
   "cell_type": "markdown",
   "metadata": {},
   "source": [
    "## Downloading the image"
   ]
  },
  {
   "cell_type": "code",
   "execution_count": 5,
   "metadata": {},
   "outputs": [
    {
     "data": {
      "text/plain": [
       "('Comet NEOWISE Rising over the Adriatic Sea.jpg',\n",
       " <http.client.HTTPMessage at 0x1a1b4d13288>)"
      ]
     },
     "execution_count": 5,
     "metadata": {},
     "output_type": "execute_result"
    }
   ],
   "source": [
    "#For downloading the image we use:\n",
    "#'urlretrieve('Image url','Name: that you want to give to image')' function of 'urllib.request'\n",
    "req.urlretrieve(img_url,title+\".jpg\")"
   ]
  },
  {
   "cell_type": "code",
   "execution_count": 6,
   "metadata": {},
   "outputs": [
    {
     "name": "stdout",
     "output_type": "stream",
     "text": [
      "=======================================Comet NEOWISE Rising over the Adriatic Sea=======================================\n",
      "\n",
      "This sight was worth getting out of bed early.  Comet C/2020 F3 (NEOWISE) has been rising before dawn during the past week to the delight of northern sky enthusiasts awake that early. Up before sunrise, the featured photographer was able to capture in dramatic fashion one of the few comets visible to the unaided eye this century, an inner-Solar System intruder that might become known as the Great Comet of 2020.  The resulting video details Comet NEOWISE from Italy rising over the Adriatic Sea. The time-lapse video combines over 240 images taken over 30 minutes.  The comet is seen rising through a foreground of bright and undulating noctilucent clouds, and before a background of distant stars.  Comet NEOWISE has remained unexpectedly bright, so far, with its ion and dust tails found to emanate from a nucleus spanning about five kilometers across.  Fortunately, starting tonight, northern observers with a clear and dark northwestern horizon should be able to see the sun-reflecting interplanetary snowball just after sunset.   Notable Images of Comet NEOWISE Submitted to APOD:  || July 12  || July 11  || July 10 & earlier ||\n",
      "Image saved\n"
     ]
    }
   ],
   "source": [
    "#printing the title and explanation of the image\n",
    "print(title.center(120,\"=\"))\n",
    "print()\n",
    "print(expln,sep='')\n",
    "\n",
    "print(\"Image saved\")"
   ]
  },
  {
   "cell_type": "code",
   "execution_count": null,
   "metadata": {},
   "outputs": [],
   "source": []
  }
 ],
 "metadata": {
  "kernelspec": {
   "display_name": "Python 3",
   "language": "python",
   "name": "python3"
  },
  "language_info": {
   "codemirror_mode": {
    "name": "ipython",
    "version": 3
   },
   "file_extension": ".py",
   "mimetype": "text/x-python",
   "name": "python",
   "nbconvert_exporter": "python",
   "pygments_lexer": "ipython3",
   "version": "3.7.4"
  }
 },
 "nbformat": 4,
 "nbformat_minor": 2
}
